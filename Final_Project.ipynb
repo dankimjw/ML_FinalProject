# Final Project
### Machine Learning and Predictive Analytics (Spring 2024)
### Daniel Kim


import tensorflow as tf

print("TensorFlow version:", tf.__version__)

# Check if GPU is available
gpus = tf.config.list_physical_devices('GPU')
if gpus:
    try:
        tf.config.experimental.set_visible_devices(gpus[0], 'GPU')
        logical_gpus = tf.config.experimental.list_logical_devices('GPU')
        print("Number of logical GPUs:", len(logical_gpus))
    except RuntimeError as e:
        print("RuntimeError:", e)
else:
    print("No GPUs detected")

# Supress warnings
import warnings
